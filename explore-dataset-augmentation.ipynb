{
 "cells": [
  {
   "cell_type": "markdown",
   "id": "54f17370-2395-414d-933f-45af74c3a20f",
   "metadata": {},
   "source": [
    "# Explore the dataset augmentation function\n",
    "\n",
    "This notebook showcases how to use the `augment_dataset()` function, which is part of the `image_augmentator` library. \n",
    "\n",
    "The `augment_dataset()` function takes as an input a [manifest file](https://docs.aws.amazon.com/sagemaker/latest/dg/sms-input-data-input-manifest.html) with annotation details about the images of a dataset. Manifest files are JSON lines objects, with one line corresponding to one image. It then augments all the images while also generating a new manifest file for the augmented dataset. \n",
    "\n",
    "The manifest file can be located either locally or in S3. 3 types of tasks are supported by the `augment_dataset()` function: \n",
    "\n",
    "- Object detection (bounding boxes)\n",
    "- Image classification (single label)\n",
    "- Image classification (multi-label)\n",
    "\n",
    "The following example demonstrates how to use the `augment_dataset()` function for an object detection task, on a small local dataset. If the same dataset was located in Amazon S3, the functionality would be exactly the same, with the difference of providing S3 URIs instead of local paths.\n",
    "\n",
    "The toy dataset consists of two images from the [Computer vision in retail workshop dataset](https://github.com/aws-samples/computer-vision-retail-workshop/tree/main/dataset), licensed under the Creative Commons Attribution-ShareAlike 4.0 International License. First, import some required libraries and list the categories available in the dataset."
   ]
  },
  {
   "cell_type": "code",
   "execution_count": 2,
   "id": "ad3f8c90-2638-4378-898b-00e3a24c73a7",
   "metadata": {
    "tags": []
   },
   "outputs": [],
   "source": [
    "import numpy as np\n",
    "import matplotlib.pyplot as plt\n",
    "%matplotlib inline  \n",
    "plt.style.use('seaborn')"
   ]
  },
  {
   "cell_type": "code",
   "execution_count": 3,
   "id": "8d720939-f137-40be-901e-e03569a4a45f",
   "metadata": {
    "tags": []
   },
   "outputs": [],
   "source": [
    "# names of the 10 products included in the toy dataset\n",
    "CLASS_NAMES = [\n",
    "    'flakes',  \n",
    "    'mm', \n",
    "    'coke', \n",
    "    'spam', \n",
    "    'nutella', \n",
    "    'doritos', \n",
    "    'ritz', \n",
    "    'skittles', \n",
    "    'mountaindew', \n",
    "    'evian'\n",
    "]"
   ]
  },
  {
   "cell_type": "markdown",
   "id": "e79ce251-0777-4d86-8f6a-25350fe7592c",
   "metadata": {},
   "source": [
    "Run the cell below to take a look at our manifest file for the toy dataset."
   ]
  },
  {
   "cell_type": "code",
   "execution_count": null,
   "id": "799ab11c-4db2-4aae-a851-75a03328fb5e",
   "metadata": {},
   "outputs": [],
   "source": [
    "%cat images/toy-dataset.manifest"
   ]
  },
  {
   "cell_type": "markdown",
   "id": "706ad41a-ca2d-4ca9-9a9c-a1610b433ab8",
   "metadata": {},
   "source": [
    "In the following cell we define the augmentation parameters that will be applied to the whole dataset. Bear in mind that you don't need to provide values for all the parameters. Only those that are relevant to your use case. You can use the `explore-image-augmentations.ipynb` notebook to understand the impact and the ranges of each of the augmentation parameters and decide which are applicable in your use case. "
   ]
  },
  {
   "cell_type": "code",
   "execution_count": 4,
   "id": "26b7d976-3849-444f-896b-25d510162051",
   "metadata": {
    "tags": []
   },
   "outputs": [],
   "source": [
    "dc_param = {}\n",
    "\n",
    "dc_param['max_number_of_classes'] = len(CLASS_NAMES),\n",
    "dc_param['how_many']=5,  # augmentation factor: how many images will be generated from one                    \n",
    "dc_param['random_seed']=0,                  \n",
    "dc_param['range_scale']=(0.75, 1.2),         \n",
    "dc_param['range_translation']=(-50, 50),    \n",
    "dc_param['range_rotation']=(-5, 5),         \n",
    "dc_param['range_sheer']=(-5, 5),            \n",
    "dc_param['range_noise']=(0, 0.001),         \n",
    "dc_param['range_brightness']=(0.8, 1.5),    \n",
    "dc_param['range_colorfulness']=(0, 2),\n",
    "dc_param['range_color_temperature']=(-0.5, 1.5),\n",
    "dc_param['range_compression']=(0, 100),\n",
    "dc_param['flip_lr']='random',               \n",
    "dc_param['flip_ud']=None,                \n",
    "dc_param['enhance']=None,\n",
    "dc_param['bbox_truncate'] = True,         \n",
    "dc_param['bbox_discard_thr'] = 0.85, "
   ]
  },
  {
   "cell_type": "markdown",
   "id": "3e53da9a-d746-4efc-b2b7-3bc89dd5621f",
   "metadata": {},
   "source": [
    "Next, create a destination folder for the augmented dataset and run the `augment_dataset` method with the parameters defined above."
   ]
  },
  {
   "cell_type": "code",
   "execution_count": 5,
   "id": "95ae2f09-2629-4ebb-ba1f-1d68ba806b4b",
   "metadata": {
    "tags": []
   },
   "outputs": [],
   "source": [
    "# create a destination folder where the augmented dataset will be saved\n",
    "!mkdir augmented_dataset"
   ]
  },
  {
   "cell_type": "code",
   "execution_count": 6,
   "id": "45948e78-b57b-495c-bbd5-6f6c143a144b",
   "metadata": {
    "tags": []
   },
   "outputs": [
    {
     "name": "stdout",
     "output_type": "stream",
     "text": [
      "Augmenting image 1 out of 2 [ 50.0 %]\n",
      "Augmenting image 2 out of 2 [ 100.0 %]\n"
     ]
    }
   ],
   "source": [
    "%load_ext autoreload\n",
    "%autoreload 2\n",
    "\n",
    "from util.image_augmentator import augment_dataset\n",
    "\n",
    "stats = augment_dataset(\n",
    "    uri_manifest_file='images/toy-dataset.manifest',  # location of the input manifest file\n",
    "    uri_destination='augmented_dataset',  # destination location where the augmented dataset will be saved\n",
    "    ls_class_names = CLASS_NAMES,\n",
    "    filename_postfix = '_augm_',\n",
    "    include_original=True,\n",
    "    verbose = True,\n",
    "    **dc_param\n",
    ")"
   ]
  },
  {
   "cell_type": "markdown",
   "id": "7efc17bb-f6b0-4bf8-9379-936f96ef1b5a",
   "metadata": {},
   "source": [
    "Now let's run some code to understand what the image augmentation library has produced. First, print some basic statistics. The code below shows how many samples are found in the original dataset, and how many samples are found in the augmented dataset. It also shows how many samples are found in each dataset for every label."
   ]
  },
  {
   "cell_type": "code",
   "execution_count": 7,
   "id": "ab90dcbb-92b1-4cd6-b33a-aae2b75e00d5",
   "metadata": {
    "tags": []
   },
   "outputs": [
    {
     "data": {
      "text/plain": [
       "{'original': {'n_samples': 2,\n",
       "  'class_hist': array([2, 3, 2, 1, 3, 2, 3, 1, 3, 2])},\n",
       " 'augmentations': {'n_samples': 12,\n",
       "  'class_hist': array([12, 18, 12,  6, 18, 12, 18,  6, 18, 12])}}"
      ]
     },
     "execution_count": 7,
     "metadata": {},
     "output_type": "execute_result"
    }
   ],
   "source": [
    "# show the statistics of the augmented dataset\n",
    "stats"
   ]
  },
  {
   "cell_type": "code",
   "execution_count": 8,
   "id": "309dcbb2-d64e-4b35-be34-b820fd684568",
   "metadata": {
    "tags": []
   },
   "outputs": [
    {
     "data": {
      "image/png": "[encoded data removed]",
      "text/plain": [
       "<Figure size 800x550 with 1 Axes>"
      ]
     },
     "metadata": {},
     "output_type": "display_data"
    }
   ],
   "source": [
    "# compare the original dataset with the augmented one\n",
    "\n",
    "X_axis = np.arange(len(CLASS_NAMES))\n",
    "\n",
    "plt.figure()\n",
    "plt.bar(\n",
    "    x= X_axis- 0.2,\n",
    "    height=stats['original']['class_hist'],\n",
    "    width=0.4,\n",
    "    label='Original'\n",
    ")\n",
    "plt.bar(\n",
    "    x=X_axis + 0.2,\n",
    "    height=stats['augmentations']['class_hist'],\n",
    "    width=0.4,\n",
    "    label='Augmented'\n",
    ")\n",
    "plt.xticks(X_axis, CLASS_NAMES, rotation=45)\n",
    "plt.ylim([0, stats['augmentations']['class_hist'].max()])\n",
    "plt.xlabel(\"Classes\")\n",
    "plt.ylabel(\"Number of training examples\")\n",
    "plt.legend()\n",
    "plt.show()"
   ]
  },
  {
   "cell_type": "markdown",
   "id": "2ff62c99-0657-419e-ad97-83f2df6c50ec",
   "metadata": {},
   "source": [
    "## Conclusion\n",
    "\n",
    "This example shows how easy it is to augment a whole image dataset, by calling the `augment_dataset()` function for an object detection task, on a small local dataset. If the same dataset was located in Amazon S3, the functionality would be exactly the same, with the difference of providing S3 URIs instead of local paths. "
   ]
  }
 ],
 "metadata": {
  "availableInstances": [
   {
    "_defaultOrder": 0,
    "_isFastLaunch": true,
    "category": "General purpose",
    "gpuNum": 0,
    "memoryGiB": 4,
    "name": "ml.t3.medium",
    "vcpuNum": 2
   },
   {
    "_defaultOrder": 1,
    "_isFastLaunch": false,
    "category": "General purpose",
    "gpuNum": 0,
    "memoryGiB": 8,
    "name": "ml.t3.large",
    "vcpuNum": 2
   },
   {
    "_defaultOrder": 2,
    "_isFastLaunch": false,
    "category": "General purpose",
    "gpuNum": 0,
    "memoryGiB": 16,
    "name": "ml.t3.xlarge",
    "vcpuNum": 4
   },
   {
    "_defaultOrder": 3,
    "_isFastLaunch": false,
    "category": "General purpose",
    "gpuNum": 0,
    "memoryGiB": 32,
    "name": "ml.t3.2xlarge",
    "vcpuNum": 8
   },
   {
    "_defaultOrder": 4,
    "_isFastLaunch": true,
    "category": "General purpose",
    "gpuNum": 0,
    "memoryGiB": 8,
    "name": "ml.m5.large",
    "vcpuNum": 2
   },
   {
    "_defaultOrder": 5,
    "_isFastLaunch": false,
    "category": "General purpose",
    "gpuNum": 0,
    "memoryGiB": 16,
    "name": "ml.m5.xlarge",
    "vcpuNum": 4
   },
   {
    "_defaultOrder": 6,
    "_isFastLaunch": false,
    "category": "General purpose",
    "gpuNum": 0,
    "memoryGiB": 32,
    "name": "ml.m5.2xlarge",
    "vcpuNum": 8
   },
   {
    "_defaultOrder": 7,
    "_isFastLaunch": false,
    "category": "General purpose",
    "gpuNum": 0,
    "memoryGiB": 64,
    "name": "ml.m5.4xlarge",
    "vcpuNum": 16
   },
   {
    "_defaultOrder": 8,
    "_isFastLaunch": false,
    "category": "General purpose",
    "gpuNum": 0,
    "memoryGiB": 128,
    "name": "ml.m5.8xlarge",
    "vcpuNum": 32
   },
   {
    "_defaultOrder": 9,
    "_isFastLaunch": false,
    "category": "General purpose",
    "gpuNum": 0,
    "memoryGiB": 192,
    "name": "ml.m5.12xlarge",
    "vcpuNum": 48
   },
   {
    "_defaultOrder": 10,
    "_isFastLaunch": false,
    "category": "General purpose",
    "gpuNum": 0,
    "memoryGiB": 256,
    "name": "ml.m5.16xlarge",
    "vcpuNum": 64
   },
   {
    "_defaultOrder": 11,
    "_isFastLaunch": false,
    "category": "General purpose",
    "gpuNum": 0,
    "memoryGiB": 384,
    "name": "ml.m5.24xlarge",
    "vcpuNum": 96
   },
   {
    "_defaultOrder": 12,
    "_isFastLaunch": false,
    "category": "General purpose",
    "gpuNum": 0,
    "memoryGiB": 8,
    "name": "ml.m5d.large",
    "vcpuNum": 2
   },
   {
    "_defaultOrder": 13,
    "_isFastLaunch": false,
    "category": "General purpose",
    "gpuNum": 0,
    "memoryGiB": 16,
    "name": "ml.m5d.xlarge",
    "vcpuNum": 4
   },
   {
    "_defaultOrder": 14,
    "_isFastLaunch": false,
    "category": "General purpose",
    "gpuNum": 0,
    "memoryGiB": 32,
    "name": "ml.m5d.2xlarge",
    "vcpuNum": 8
   },
   {
    "_defaultOrder": 15,
    "_isFastLaunch": false,
    "category": "General purpose",
    "gpuNum": 0,
    "memoryGiB": 64,
    "name": "ml.m5d.4xlarge",
    "vcpuNum": 16
   },
   {
    "_defaultOrder": 16,
    "_isFastLaunch": false,
    "category": "General purpose",
    "gpuNum": 0,
    "memoryGiB": 128,
    "name": "ml.m5d.8xlarge",
    "vcpuNum": 32
   },
   {
    "_defaultOrder": 17,
    "_isFastLaunch": false,
    "category": "General purpose",
    "gpuNum": 0,
    "memoryGiB": 192,
    "name": "ml.m5d.12xlarge",
    "vcpuNum": 48
   },
   {
    "_defaultOrder": 18,
    "_isFastLaunch": false,
    "category": "General purpose",
    "gpuNum": 0,
    "memoryGiB": 256,
    "name": "ml.m5d.16xlarge",
    "vcpuNum": 64
   },
   {
    "_defaultOrder": 19,
    "_isFastLaunch": false,
    "category": "General purpose",
    "gpuNum": 0,
    "memoryGiB": 384,
    "name": "ml.m5d.24xlarge",
    "vcpuNum": 96
   },
   {
    "_defaultOrder": 20,
    "_isFastLaunch": true,
    "category": "Compute optimized",
    "gpuNum": 0,
    "memoryGiB": 4,
    "name": "ml.c5.large",
    "vcpuNum": 2
   },
   {
    "_defaultOrder": 21,
    "_isFastLaunch": false,
    "category": "Compute optimized",
    "gpuNum": 0,
    "memoryGiB": 8,
    "name": "ml.c5.xlarge",
    "vcpuNum": 4
   },
   {
    "_defaultOrder": 22,
    "_isFastLaunch": false,
    "category": "Compute optimized",
    "gpuNum": 0,
    "memoryGiB": 16,
    "name": "ml.c5.2xlarge",
    "vcpuNum": 8
   },
   {
    "_defaultOrder": 23,
    "_isFastLaunch": false,
    "category": "Compute optimized",
    "gpuNum": 0,
    "memoryGiB": 32,
    "name": "ml.c5.4xlarge",
    "vcpuNum": 16
   },
   {
    "_defaultOrder": 24,
    "_isFastLaunch": false,
    "category": "Compute optimized",
    "gpuNum": 0,
    "memoryGiB": 72,
    "name": "ml.c5.9xlarge",
    "vcpuNum": 36
   },
   {
    "_defaultOrder": 25,
    "_isFastLaunch": false,
    "category": "Compute optimized",
    "gpuNum": 0,
    "memoryGiB": 96,
    "name": "ml.c5.12xlarge",
    "vcpuNum": 48
   },
   {
    "_defaultOrder": 26,
    "_isFastLaunch": false,
    "category": "Compute optimized",
    "gpuNum": 0,
    "memoryGiB": 144,
    "name": "ml.c5.18xlarge",
    "vcpuNum": 72
   },
   {
    "_defaultOrder": 27,
    "_isFastLaunch": false,
    "category": "Compute optimized",
    "gpuNum": 0,
    "memoryGiB": 192,
    "name": "ml.c5.24xlarge",
    "vcpuNum": 96
   },
   {
    "_defaultOrder": 28,
    "_isFastLaunch": true,
    "category": "Accelerated computing",
    "gpuNum": 1,
    "memoryGiB": 16,
    "name": "ml.g4dn.xlarge",
    "vcpuNum": 4
   },
   {
    "_defaultOrder": 29,
    "_isFastLaunch": false,
    "category": "Accelerated computing",
    "gpuNum": 1,
    "memoryGiB": 32,
    "name": "ml.g4dn.2xlarge",
    "vcpuNum": 8
   },
   {
    "_defaultOrder": 30,
    "_isFastLaunch": false,
    "category": "Accelerated computing",
    "gpuNum": 1,
    "memoryGiB": 64,
    "name": "ml.g4dn.4xlarge",
    "vcpuNum": 16
   },
   {
    "_defaultOrder": 31,
    "_isFastLaunch": false,
    "category": "Accelerated computing",
    "gpuNum": 1,
    "memoryGiB": 128,
    "name": "ml.g4dn.8xlarge",
    "vcpuNum": 32
   },
   {
    "_defaultOrder": 32,
    "_isFastLaunch": false,
    "category": "Accelerated computing",
    "gpuNum": 4,
    "memoryGiB": 192,
    "name": "ml.g4dn.12xlarge",
    "vcpuNum": 48
   },
   {
    "_defaultOrder": 33,
    "_isFastLaunch": false,
    "category": "Accelerated computing",
    "gpuNum": 1,
    "memoryGiB": 256,
    "name": "ml.g4dn.16xlarge",
    "vcpuNum": 64
   },
   {
    "_defaultOrder": 34,
    "_isFastLaunch": false,
    "category": "Accelerated computing",
    "gpuNum": 1,
    "memoryGiB": 61,
    "name": "ml.p3.2xlarge",
    "vcpuNum": 8
   },
   {
    "_defaultOrder": 35,
    "_isFastLaunch": false,
    "category": "Accelerated computing",
    "gpuNum": 4,
    "memoryGiB": 244,
    "name": "ml.p3.8xlarge",
    "vcpuNum": 32
   },
   {
    "_defaultOrder": 36,
    "_isFastLaunch": false,
    "category": "Accelerated computing",
    "gpuNum": 8,
    "memoryGiB": 488,
    "name": "ml.p3.16xlarge",
    "vcpuNum": 64
   },
   {
    "_defaultOrder": 37,
    "_isFastLaunch": false,
    "category": "Accelerated computing",
    "gpuNum": 8,
    "memoryGiB": 768,
    "name": "ml.p3dn.24xlarge",
    "vcpuNum": 96
   },
   {
    "_defaultOrder": 38,
    "_isFastLaunch": false,
    "category": "Memory Optimized",
    "gpuNum": 0,
    "memoryGiB": 16,
    "name": "ml.r5.large",
    "vcpuNum": 2
   },
   {
    "_defaultOrder": 39,
    "_isFastLaunch": false,
    "category": "Memory Optimized",
    "gpuNum": 0,
    "memoryGiB": 32,
    "name": "ml.r5.xlarge",
    "vcpuNum": 4
   },
   {
    "_defaultOrder": 40,
    "_isFastLaunch": false,
    "category": "Memory Optimized",
    "gpuNum": 0,
    "memoryGiB": 64,
    "name": "ml.r5.2xlarge",
    "vcpuNum": 8
   },
   {
    "_defaultOrder": 41,
    "_isFastLaunch": false,
    "category": "Memory Optimized",
    "gpuNum": 0,
    "memoryGiB": 128,
    "name": "ml.r5.4xlarge",
    "vcpuNum": 16
   },
   {
    "_defaultOrder": 42,
    "_isFastLaunch": false,
    "category": "Memory Optimized",
    "gpuNum": 0,
    "memoryGiB": 256,
    "name": "ml.r5.8xlarge",
    "vcpuNum": 32
   },
   {
    "_defaultOrder": 43,
    "_isFastLaunch": false,
    "category": "Memory Optimized",
    "gpuNum": 0,
    "memoryGiB": 384,
    "name": "ml.r5.12xlarge",
    "vcpuNum": 48
   },
   {
    "_defaultOrder": 44,
    "_isFastLaunch": false,
    "category": "Memory Optimized",
    "gpuNum": 0,
    "memoryGiB": 512,
    "name": "ml.r5.16xlarge",
    "vcpuNum": 64
   },
   {
    "_defaultOrder": 45,
    "_isFastLaunch": false,
    "category": "Memory Optimized",
    "gpuNum": 0,
    "memoryGiB": 768,
    "name": "ml.r5.24xlarge",
    "vcpuNum": 96
   },
   {
    "_defaultOrder": 46,
    "_isFastLaunch": false,
    "category": "Accelerated computing",
    "gpuNum": 1,
    "memoryGiB": 16,
    "name": "ml.g5.xlarge",
    "vcpuNum": 4
   },
   {
    "_defaultOrder": 47,
    "_isFastLaunch": false,
    "category": "Accelerated computing",
    "gpuNum": 1,
    "memoryGiB": 32,
    "name": "ml.g5.2xlarge",
    "vcpuNum": 8
   },
   {
    "_defaultOrder": 48,
    "_isFastLaunch": false,
    "category": "Accelerated computing",
    "gpuNum": 1,
    "memoryGiB": 64,
    "name": "ml.g5.4xlarge",
    "vcpuNum": 16
   },
   {
    "_defaultOrder": 49,
    "_isFastLaunch": false,
    "category": "Accelerated computing",
    "gpuNum": 1,
    "memoryGiB": 128,
    "name": "ml.g5.8xlarge",
    "vcpuNum": 32
   },
   {
    "_defaultOrder": 50,
    "_isFastLaunch": false,
    "category": "Accelerated computing",
    "gpuNum": 1,
    "memoryGiB": 256,
    "name": "ml.g5.16xlarge",
    "vcpuNum": 64
   },
   {
    "_defaultOrder": 51,
    "_isFastLaunch": false,
    "category": "Accelerated computing",
    "gpuNum": 4,
    "memoryGiB": 192,
    "name": "ml.g5.12xlarge",
    "vcpuNum": 48
   },
   {
    "_defaultOrder": 52,
    "_isFastLaunch": false,
    "category": "Accelerated computing",
    "gpuNum": 4,
    "memoryGiB": 384,
    "name": "ml.g5.24xlarge",
    "vcpuNum": 96
   },
   {
    "_defaultOrder": 53,
    "_isFastLaunch": false,
    "category": "Accelerated computing",
    "gpuNum": 8,
    "memoryGiB": 768,
    "name": "ml.g5.48xlarge",
    "vcpuNum": 192
   }
  ],
  "instance_type": "ml.t3.medium",
  "kernelspec": {
   "display_name": "Python 3 (Data Science)",
   "language": "python",
   "name": "python3__SAGEMAKER_INTERNAL__arn:aws:sagemaker:ap-southeast-2:452832661640:image/datascience-1.0"
  },
  "language_info": {
   "codemirror_mode": {
    "name": "ipython",
    "version": 3
   },
   "file_extension": ".py",
   "mimetype": "text/x-python",
   "name": "python",
   "nbconvert_exporter": "python",
   "pygments_lexer": "ipython3",
   "version": "3.7.10"
  }
 },
 "nbformat": 4,
 "nbformat_minor": 5
}
